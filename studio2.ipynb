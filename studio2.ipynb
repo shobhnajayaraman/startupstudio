{
 "cells": [
  {
   "cell_type": "code",
   "execution_count": 95,
   "metadata": {
    "scrolled": true
   },
   "outputs": [
    {
     "name": "stderr",
     "output_type": "stream",
     "text": [
      "[nltk_data] Downloading package vader_lexicon to\n",
      "[nltk_data]     /Users/xpressions11/nltk_data...\n",
      "[nltk_data]   Package vader_lexicon is already up-to-date!\n"
     ]
    },
    {
     "data": {
      "text/plain": [
       "True"
      ]
     },
     "execution_count": 95,
     "metadata": {},
     "output_type": "execute_result"
    }
   ],
   "source": [
    "from nltk.sentiment.vader import SentimentIntensityAnalyzer\n",
    "import nltk\n",
    "\n",
    "nltk.download('vader_lexicon')"
   ]
  },
  {
   "cell_type": "code",
   "execution_count": 99,
   "metadata": {},
   "outputs": [],
   "source": [
    "import pandas as pd\n",
    "#raw_data = pd.read_csv('/Users/xpressions11/Downloads/parade.csv')\n",
    "raw_data = pd.read_csv('/Users/xpressions11/Downloads/revolve (1).csv')\n",
    "list_new = raw_data.values.tolist()"
   ]
  },
  {
   "cell_type": "code",
   "execution_count": 100,
   "metadata": {},
   "outputs": [
    {
     "name": "stdout",
     "output_type": "stream",
     "text": [
      "That dress 😍 YASSS⭐️ These looks and colors are all copies . So sad 💫💫💫 Hay algo que no encaja entre estas modelos, y es el espanta pajaros de la tercera foto, el viejo huesudo colombiano  ajaja what is the dress name in pic 8 What is the pink dress name in the first pic? 😍 🔥🔥 Best weekend!! 🙌🏽🙌🏽🙌🏽 @brooksnader 😍😍😍😍 Omg hi queen @brooksnader Had so much fun!!! Thanks @revolve 🤗💕 So much fun 😍💕💕💕 thank you!! ☺️💕🙌🏽🎉 😍 💕💕 ⭐️⭐️❤️ @brooksnader 😍😍😍😍 💖✌🏽 Woah 😍 @tiana_parkr is so stunning 🤤 Yesssss sooo pretty Grazie @revolve What is the dress in pic 2? Thanks ❤️ 🤩🤩🤩 Beautiful 💖💖💖💖 Love the two dresses on the first photo 👯‍♀️♥️ Super stunning, love the outfits 🔥💗 I appreciate the posting of these women of color, which Revolve often lacks. Absolutely beautiful! Makes every girl feel like a princess! 🍹🍭 I love places filled with history and stories 👼Travelling back in time 🌈 Sending you love from Malibu! 🌸 Love all these looks 🔥🔥 Wish we were here also 😢 So much fun! Espetacular! ❤ 🔥🔥🔥❤️❤️ Such a fun weekend! ✨ BESOS ❤️ Wow 😍😍😍😍😍 ❤️ 😍😍 Molto bello @revolve 💕 Gorgeous pic love! 🍒 Msg main account @cherrychapstickswim and tell them we sent you! 🔥🔥🔥 😍 Wow girl you have such an amazing and inspirin page 🤩 i love it 😍if you get time please check out mine😘 thanks @carameeks_2 dresses for vegss Beauties 💯📸💯🌈💯♥️💯🌈♥️👍🏻 So pretty 😍💘 Beautiful❤️ text 😍😍😍 🔥🐯🔥 Beautiful girls 😍 💙💙💙💙💙 😍😍 The red head on the left though😍❤️ @helena156 Wishing we were there right now !\n",
      "1467\n"
     ]
    }
   ],
   "source": [
    "comment_data= []\n",
    "for i in list_new:\n",
    "    comment_data.append(i[1])\n",
    "\n",
    "result = ' '.join(comment_data)\n",
    "#result = str(comment_data)\n",
    "print(result)\n",
    "print(len(result))"
   ]
  },
  {
   "cell_type": "code",
   "execution_count": 101,
   "metadata": {},
   "outputs": [
    {
     "data": {
      "text/plain": [
       "'with open(\\'sentimentrawfile.txt\\', \"r\") as fp:\\n    for line in fp:\\n        line = line.strip()\\n        line = line.encode(\"utf-8\")\\n        \\nsentiment_file = open(\\'sentimentrawfile.txt\\', \\'r\\')\\nyourResult = [line.split(\\',\\') for line in sentiment_file.readlines()]\\n'"
      ]
     },
     "execution_count": 101,
     "metadata": {},
     "output_type": "execute_result"
    }
   ],
   "source": [
    "\"\"\"with open('sentimentrawfile.txt', \"r\") as fp:\n",
    "    for line in fp:\n",
    "        line = line.strip()\n",
    "        line = line.encode(\"utf-8\")\n",
    "        \n",
    "sentiment_file = open('sentimentrawfile.txt', 'r')\n",
    "yourResult = [line.split(',') for line in sentiment_file.readlines()]\n",
    "\"\"\""
   ]
  },
  {
   "cell_type": "code",
   "execution_count": 102,
   "metadata": {
    "scrolled": true
   },
   "outputs": [
    {
     "data": {
      "text/plain": [
       "['That dress 😍 YASSS⭐️ These looks and colors are all copies .',\n",
       " 'So sad 💫💫💫 Hay algo que no encaja entre estas modelos, y es el espanta pajaros de la tercera foto, el viejo huesudo colombiano  ajaja what is the dress name in pic 8 What is the pink dress name in the first pic?',\n",
       " '😍 🔥🔥 Best weekend!!',\n",
       " '🙌🏽🙌🏽🙌🏽 @brooksnader 😍😍😍😍 Omg hi queen @brooksnader Had so much fun!!!',\n",
       " 'Thanks @revolve 🤗💕 So much fun 😍💕💕💕 thank you!!',\n",
       " '☺️💕🙌🏽🎉 😍 💕💕 ⭐️⭐️❤️ @brooksnader 😍😍😍😍 💖✌🏽 Woah 😍 @tiana_parkr is so stunning 🤤 Yesssss sooo pretty Grazie @revolve What is the dress in pic 2?',\n",
       " 'Thanks ❤️ 🤩🤩🤩 Beautiful 💖💖💖💖 Love the two dresses on the first photo 👯\\u200d♀️♥️ Super stunning, love the outfits 🔥💗 I appreciate the posting of these women of color, which Revolve often lacks.',\n",
       " 'Absolutely beautiful!',\n",
       " 'Makes every girl feel like a princess!',\n",
       " '🍹🍭 I love places filled with history and stories 👼Travelling back in time 🌈 Sending you love from Malibu!',\n",
       " '🌸 Love all these looks 🔥🔥 Wish we were here also 😢 So much fun!',\n",
       " 'Espetacular!',\n",
       " '❤ 🔥🔥🔥❤️❤️ Such a fun weekend!',\n",
       " '✨ BESOS ❤️ Wow 😍😍😍😍😍 ❤️ 😍😍 Molto bello @revolve 💕 Gorgeous pic love!',\n",
       " '🍒 Msg main account @cherrychapstickswim and tell them we sent you!',\n",
       " '🔥🔥🔥 😍 Wow girl you have such an amazing and inspirin page 🤩 i love it 😍if you get time please check out mine😘 thanks @carameeks_2 dresses for vegss Beauties 💯📸💯🌈💯♥️💯🌈♥️👍🏻 So pretty 😍💘 Beautiful❤️ text 😍😍😍 🔥🐯🔥 Beautiful girls 😍 💙💙💙💙💙 😍😍 The red head on the left though😍❤️ @helena156 Wishing we were there right now !']"
      ]
     },
     "execution_count": 102,
     "metadata": {},
     "output_type": "execute_result"
    }
   ],
   "source": [
    "from nltk import tokenize\n",
    "lines_list = tokenize.sent_tokenize(result)\n",
    "lines_list"
   ]
  },
  {
   "cell_type": "code",
   "execution_count": 103,
   "metadata": {},
   "outputs": [],
   "source": [
    "sid = SentimentIntensityAnalyzer()"
   ]
  },
  {
   "cell_type": "code",
   "execution_count": 104,
   "metadata": {},
   "outputs": [
    {
     "name": "stdout",
     "output_type": "stream",
     "text": [
      "That dress 😍 YASSS⭐️ These looks and colors are all copies .\n",
      "compound: 0.0, \n",
      "neg: 0.0, \n",
      "neu: 1.0, \n",
      "pos: 0.0, \n",
      "So sad 💫💫💫 Hay algo que no encaja entre estas modelos, y es el espanta pajaros de la tercera foto, el viejo huesudo colombiano  ajaja what is the dress name in pic 8 What is the pink dress name in the first pic?\n",
      "compound: -0.6801, \n",
      "neg: 0.125, \n",
      "neu: 0.875, \n",
      "pos: 0.0, \n",
      "😍 🔥🔥 Best weekend!!\n",
      "compound: 0.6988, \n",
      "neg: 0.0, \n",
      "neu: 0.295, \n",
      "pos: 0.705, \n",
      "🙌🏽🙌🏽🙌🏽 @brooksnader 😍😍😍😍 Omg hi queen @brooksnader Had so much fun!!!\n",
      "compound: 0.6656, \n",
      "neg: 0.0, \n",
      "neu: 0.692, \n",
      "pos: 0.308, \n",
      "Thanks @revolve 🤗💕 So much fun 😍💕💕💕 thank you!!\n",
      "compound: 0.8612, \n",
      "neg: 0.0, \n",
      "neu: 0.386, \n",
      "pos: 0.614, \n",
      "☺️💕🙌🏽🎉 😍 💕💕 ⭐️⭐️❤️ @brooksnader 😍😍😍😍 💖✌🏽 Woah 😍 @tiana_parkr is so stunning 🤤 Yesssss sooo pretty Grazie @revolve What is the dress in pic 2?\n",
      "compound: 0.7626, \n",
      "neg: 0.0, \n",
      "neu: 0.762, \n",
      "pos: 0.238, \n",
      "Thanks ❤️ 🤩🤩🤩 Beautiful 💖💖💖💖 Love the two dresses on the first photo 👯‍♀️♥️ Super stunning, love the outfits 🔥💗 I appreciate the posting of these women of color, which Revolve often lacks.\n",
      "compound: 0.9761, \n",
      "neg: 0.0, \n",
      "neu: 0.506, \n",
      "pos: 0.494, \n",
      "Absolutely beautiful!\n",
      "compound: 0.6689, \n",
      "neg: 0.0, \n",
      "neu: 0.182, \n",
      "pos: 0.818, \n",
      "Makes every girl feel like a princess!\n",
      "compound: 0.4199, \n",
      "neg: 0.0, \n",
      "neu: 0.642, \n",
      "pos: 0.358, \n",
      "🍹🍭 I love places filled with history and stories 👼Travelling back in time 🌈 Sending you love from Malibu!\n",
      "compound: 0.8655, \n",
      "neg: 0.0, \n",
      "neu: 0.633, \n",
      "pos: 0.367, \n",
      "🌸 Love all these looks 🔥🔥 Wish we were here also 😢 So much fun!\n",
      "compound: 0.895, \n",
      "neg: 0.0, \n",
      "neu: 0.481, \n",
      "pos: 0.519, \n",
      "Espetacular!\n",
      "compound: 0.0, \n",
      "neg: 0.0, \n",
      "neu: 1.0, \n",
      "pos: 0.0, \n",
      "❤ 🔥🔥🔥❤️❤️ Such a fun weekend!\n",
      "compound: 0.5562, \n",
      "neg: 0.0, \n",
      "neu: 0.455, \n",
      "pos: 0.545, \n",
      "✨ BESOS ❤️ Wow 😍😍😍😍😍 ❤️ 😍😍 Molto bello @revolve 💕 Gorgeous pic love!\n",
      "compound: 0.923, \n",
      "neg: 0.0, \n",
      "neu: 0.423, \n",
      "pos: 0.577, \n",
      "🍒 Msg main account @cherrychapstickswim and tell them we sent you!\n",
      "compound: 0.0, \n",
      "neg: 0.0, \n",
      "neu: 1.0, \n",
      "pos: 0.0, \n",
      "🔥🔥🔥 😍 Wow girl you have such an amazing and inspirin page 🤩 i love it 😍if you get time please check out mine😘 thanks @carameeks_2 dresses for vegss Beauties 💯📸💯🌈💯♥️💯🌈♥️👍🏻 So pretty 😍💘 Beautiful❤️ text 😍😍😍 🔥🐯🔥 Beautiful girls 😍 💙💙💙💙💙 😍😍 The red head on the left though😍❤️ @helena156 Wishing we were there right now !\n",
      "compound: 0.9834, \n",
      "neg: 0.0, \n",
      "neu: 0.595, \n",
      "pos: 0.405, \n"
     ]
    }
   ],
   "source": [
    "for line_list in lines_list:\n",
    "    print(line_list)\n",
    "    ss = sid.polarity_scores(line_list)\n",
    "    for k in sorted(ss):\n",
    "        print('{0}: {1}, '.format(k, ss[k]), end='')\n",
    "        print()"
   ]
  }
 ],
 "metadata": {
  "kernelspec": {
   "display_name": "Python 3",
   "language": "python",
   "name": "python3"
  },
  "language_info": {
   "codemirror_mode": {
    "name": "ipython",
    "version": 3
   },
   "file_extension": ".py",
   "mimetype": "text/x-python",
   "name": "python",
   "nbconvert_exporter": "python",
   "pygments_lexer": "ipython3",
   "version": "3.7.4"
  }
 },
 "nbformat": 4,
 "nbformat_minor": 2
}
